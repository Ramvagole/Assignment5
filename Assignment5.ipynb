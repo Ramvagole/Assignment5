{
 "cells": [
  {
   "cell_type": "code",
   "execution_count": 4,
   "id": "e48ee34b-94c0-4352-85e7-d4d062936592",
   "metadata": {},
   "outputs": [
    {
     "name": "stdin",
     "output_type": "stream",
     "text": [
      "Enter the percantage value not \"%\":   100\n"
     ]
    },
    {
     "name": "stdout",
     "output_type": "stream",
     "text": [
      "A\n"
     ]
    }
   ],
   "source": [
    "#Q1):-\n",
    "a=int(input(\"\"\"Enter the percantage value not \"%\":\"\"\").strip())\n",
    "if a>90:\n",
    "    print(\"A\")\n",
    "elif a>80 and a<=90:\n",
    "    print(\"B\")\n",
    "elif a>=60 and a<=80:\n",
    "    print(\"C\")\n",
    "else:\n",
    "    print(\"D\")"
   ]
  },
  {
   "cell_type": "code",
   "execution_count": 5,
   "id": "6c6fe78e-6d6e-49d9-9432-8f2a6debe173",
   "metadata": {},
   "outputs": [
    {
     "name": "stdin",
     "output_type": "stream",
     "text": [
      "Enter the cost price of Bike: 60000\n"
     ]
    },
    {
     "name": "stdout",
     "output_type": "stream",
     "text": [
      "Road tax has to pay: 6000.0\n"
     ]
    }
   ],
   "source": [
    "#Q2):-\n",
    "cp=int(input(\"Enter the cost price of Bike:\").strip())\n",
    "if cp>100000:\n",
    "    a=(cp*15)/100\n",
    "    print(\"Road tax has to pay:\",a)\n",
    "elif cp>50000 and cp<=100000:\n",
    "    a=(cp*10)/100\n",
    "    print(\"Road tax has to pay:\",a)\n",
    "elif cp<=50000:\n",
    "    a=(cp*5)/100\n",
    "    print(\"Road tax has to pay:\",a)\n",
    "    "
   ]
  },
  {
   "cell_type": "code",
   "execution_count": null,
   "id": "d2fbaf02-940b-47b7-aebd-660eca11cc14",
   "metadata": {},
   "outputs": [],
   "source": [
    "#Q3):-\n",
    "a=input(\"enter the city name betwen Delhi,Agra and Jaipur:\").strip().lower()\n",
    "if a==\"delhi\":\n",
    "    print(\"The monument in Delhi is Red Fort\")\n",
    "elif a==\"agra\":\n",
    "    print(\"The monument in Agra is Taj Mahal\")\n",
    "elif a==\"jaipur\":\n",
    "    print(\"The monument in Jaipur is Jai Mahal\")\n",
    "    "
   ]
  },
  {
   "cell_type": "code",
   "execution_count": null,
   "id": "96fe8407-5172-4eb8-8464-e71907254d60",
   "metadata": {},
   "outputs": [],
   "source": [
    "#Q4):-\n",
    "a=int(input(\"Enter the number:\"))\n",
    "i=0\n",
    "while a>1 and a<=10:\n",
    "    a=a/3\n",
    "    i+=1\n",
    "print(i)"
   ]
  },
  {
   "cell_type": "code",
   "execution_count": null,
   "id": "de2f5b07-cc53-4b7a-9729-a6c7eafa5460",
   "metadata": {},
   "outputs": [],
   "source": [
    "#Q5):-\n",
    "   Python While Loop is used to execute a block of statements repeatedly until a given condition is satisfied.\n",
    "    And when the condition becomes false, the line immediately after the loop in the program is executed.\n",
    "    \n",
    "    Example:-\n",
    "       while expression:\n",
    "          statement(s)"
   ]
  },
  {
   "cell_type": "code",
   "execution_count": null,
   "id": "17eb340b-def5-4e34-b8ab-c28f341e5516",
   "metadata": {},
   "outputs": [],
   "source": [
    "#Q6):-\n",
    "n = int(input('Enter number of rows : '))\n",
    "i = 1\n",
    "while i <= n :\n",
    "    j = 1\n",
    "    while j <= i:\n",
    "        print(\"*\", end = \" \")\n",
    "        j += 1\n",
    "    print()\n",
    "    i += 1"
   ]
  },
  {
   "cell_type": "code",
   "execution_count": null,
   "id": "c0b8103f-f813-43ec-bc5c-6a16c604f4f7",
   "metadata": {},
   "outputs": [],
   "source": [
    "n = int(input('Enter number of rows : ')) \n",
    "i = 1\n",
    "while i <= n :\n",
    "    j = n\n",
    "    while j >= i:\n",
    "        print(\"*\", end = \" \")\n",
    "        j -= 1\n",
    "    print()\n",
    "    i += 1"
   ]
  },
  {
   "cell_type": "code",
   "execution_count": null,
   "id": "c4f468c6-9275-4fbd-931f-a48003f9dcd7",
   "metadata": {},
   "outputs": [],
   "source": [
    "n = int(input('Enter number of rows : '))\n",
    "k = 1\n",
    "i = 1\n",
    "while i <= n :\n",
    "    j = 1\n",
    "    while j <= i:\n",
    "        print(\"{:3d}\".format(k), end = \" \")\n",
    "        j += 1\n",
    "        k += 1\n",
    "    print()\n",
    "    i += 1\n",
    "    "
   ]
  },
  {
   "cell_type": "code",
   "execution_count": null,
   "id": "4222240c-0902-45a3-a863-dba1215450a0",
   "metadata": {},
   "outputs": [],
   "source": [
    "#Q7):-\n",
    "a=[1,2,3,4,5,6,7,8,9,10]\n",
    "i=0\n",
    "while i<10:\n",
    "    i+=1\n",
    "    print(a[-i])\n"
   ]
  },
  {
   "cell_type": "code",
   "execution_count": null,
   "id": "1fb651a5-6a41-4e51-8dff-1cf20be290f5",
   "metadata": {},
   "outputs": [],
   "source": [
    "#Q8):-\n",
    "a=[1,2,3,4,5,6,7,8,9,10]\n",
    "i=0\n",
    "while i<10:\n",
    "    i+=1\n",
    "    print(a[-i])"
   ]
  }
 ],
 "metadata": {
  "kernelspec": {
   "display_name": "Python 3 (ipykernel)",
   "language": "python",
   "name": "python3"
  },
  "language_info": {
   "codemirror_mode": {
    "name": "ipython",
    "version": 3
   },
   "file_extension": ".py",
   "mimetype": "text/x-python",
   "name": "python",
   "nbconvert_exporter": "python",
   "pygments_lexer": "ipython3",
   "version": "3.10.8"
  }
 },
 "nbformat": 4,
 "nbformat_minor": 5
}
